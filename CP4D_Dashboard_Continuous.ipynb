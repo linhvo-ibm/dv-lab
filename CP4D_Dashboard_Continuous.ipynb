{
 "cells": [
  {
   "cell_type": "markdown",
   "metadata": {},
   "source": [
    "# Cloud Pak for Data Dashboard - Continuous Update\n",
    "This notebook will run continuously through all of the stocks in the database. The Dashboard will be updated as quickly as possible."
   ]
  },
  {
   "cell_type": "code",
   "execution_count": 1,
   "metadata": {},
   "outputs": [
    {
     "name": "stdout",
     "output_type": "stream",
     "text": [
      "Db2 Extensions Loaded.\n",
      "Connection successful.\n"
     ]
    }
   ],
   "source": [
    "%run db2.ipynb\n",
    "%run connection.ipynb\n",
    "%run dashboard.ipynb\n",
    "seturl('http://tipboard:7272')"
   ]
  },
  {
   "cell_type": "markdown",
   "metadata": {},
   "source": [
    "### Select a Stock Symbol from the following list\n",
    "Select one main stock and two others to compare against that are currently available from the following list."
   ]
  },
  {
   "cell_type": "code",
   "execution_count": 2,
   "metadata": {},
   "outputs": [],
   "source": [
    "all_stocks = %sql -array SELECT TRIM(SYMBOL) FROM TRADING.STOCK_SYMBOLS WHERE TRIM(SYMBOL) != 'DJIA' \\\n",
    "                         ORDER BY SYMBOL \n",
    "all_names  = %sql -array SELECT TRIM(COMPANY) FROM TRADING.STOCK_SYMBOLS WHERE TRIM(SYMBOL) != 'DJIA' \\\n",
    "                         ORDER BY SYMBOL"
   ]
  },
  {
   "cell_type": "markdown",
   "metadata": {},
   "source": [
    "Define the block of code that will populate the dashboard."
   ]
  },
  {
   "cell_type": "markdown",
   "metadata": {},
   "source": [
    "# Publishing Dashboard"
   ]
  },
  {
   "cell_type": "code",
   "execution_count": 3,
   "metadata": {},
   "outputs": [],
   "source": [
    "def publish_dashboard(stock1_in, stock2_in, stock3_in, stock_name_in):\n",
    "    \n",
    "    stock1 = stock1_in\n",
    "    stock2 = stock2_in\n",
    "    stock3 = stock3_in\n",
    "    weeks = [25, 45]\n",
    "    stock_name = stock_name_in\n",
    "    \n",
    "    # Step 2: Get the open price of the stock and the volume for the first record found\n",
    "    stock_values = %sql SELECT OPEN, CLOSE, VOLUME FROM TRADING.STOCK_HISTORY \\\n",
    "                        WHERE SYMBOL = :stock1 FETCH FIRST ROW ONLY\n",
    "    stock_open = str(stock_values['OPEN'][0])\n",
    "    stock_current = str(stock_values['CLOSE'][0])\n",
    "    stock_volume = int(stock_values['VOLUME'][0])\n",
    "\n",
    "    # Step 3: Publish the information into cell STOCK_INFO\n",
    "    publishText('stock_info',stock1,stock_name,stock_current,'Open',stock_open,'Volume',stock_volume)\n",
    "\n",
    "    # Step 4: Get the YTD stock values on a weekly basis\n",
    "    sql = '''\n",
    "    WITH WEEKLY(SYMBOL, WEEKNO, VALUE) AS (\n",
    "       SELECT SYMBOL, WEEK(TX_DATE), DEC(AVG(OPEN),9,2)\n",
    "         FROM TRADING.STOCK_HISTORY\n",
    "         WHERE SYMBOL IN (:stock1, :stock2, :stock3) \n",
    "               AND TX_DATE != '2017-12-01' \n",
    "               AND WEEK(TX_DATE) BETWEEN :weeks[0] AND :weeks[1]\n",
    "         GROUP BY SYMBOL, WEEK(TX_DATE)\n",
    "    )\n",
    "    SELECT * FROM WEEKLY \n",
    "    ORDER BY SYMBOL, WEEKNO\n",
    "    '''\n",
    "    data = %sql -array {sql}\n",
    "\n",
    "    stock1_volume = []\n",
    "    stock2_volume = []\n",
    "    stock3_volume = []\n",
    "    for row in data[1:]:\n",
    "        if (row[0] == stock1): stock1_volume.append([row[1],row[2]])\n",
    "        if (row[0] == stock2): stock2_volume.append([row[1],row[2]])\n",
    "        if (row[0] == stock3): stock3_volume.append([row[1],row[2]])\n",
    "\n",
    "\n",
    "    # Step 5: Publish the data into the cell STOCK_YTD\n",
    "    publishLine('stock_ytd','{0} vs {1} vs {2}'.format(stock1,stock2,stock3),'Stock Price Average Last 20 Weeks', \n",
    "                [stock1,stock2,stock3],[stock1_volume, stock2_volume, stock3_volume])\n",
    "\n",
    "    # Step 6: Top Purchase/Sell of Stock today (Note: All Stocks)\n",
    "    \n",
    "    sql = '''\n",
    "    WITH\n",
    "    TX_DAY(TX_DATE) AS (\n",
    "      VALUES NEXT_DAY(DATE('2018-01-01') + INT(RAND()*350) DAYS, 'Thursday')\n",
    "    ),\n",
    "    PURCHASED(CUSTID,AMOUNT) AS (\n",
    "      SELECT CUSTID, SUM(QUANTITY) AS AMOUNT\n",
    "        FROM TRADING.STOCK_TRANSACTIONS ST, TX_DAY TX\n",
    "      WHERE ST.TX_DATE = TX.TX_DATE \n",
    "      GROUP BY CUSTID\n",
    "    )\n",
    "    SELECT C.LASTNAME, C.CITY, C.STATE, P.AMOUNT\n",
    "      FROM PURCHASED P, TRADING.CUSTOMER C\n",
    "      WHERE C.CUSTID = P.CUSTID\n",
    "    ORDER BY ABS(P.AMOUNT) DESC\n",
    "    FETCH FIRST 9 ROWS ONLY \n",
    "    '''\n",
    "    data = %sql -array {sql}\n",
    "    customer = []\n",
    "    purchase = []\n",
    "    location = []\n",
    "    color    = []\n",
    "    \n",
    "    row_count = 0\n",
    "    for row in data[1:]:\n",
    "        row_count = row_count + 1\n",
    "        customer.append(row[0])\n",
    "        \n",
    "        if (int(row[3]) < 0):\n",
    "            color.append(\"red\")\n",
    "        else:\n",
    "            color.append(\"green\")\n",
    "            \n",
    "        purchase.append(row[3])\n",
    "        location.append(\"{0}, {1}\".format(row[1],row[2]))\n",
    "    \n",
    "    if (row_count == 0): # No data found\n",
    "        purchase.append(0)\n",
    "        customer.append(\"No stock trades completed\")\n",
    "        color.append(\"blue\")\n",
    "        location.append(\"\")\n",
    "    \n",
    "    # Step 7: Publish the result to the cell STOCK_COMPARE    \n",
    "    publishListing('stock_purchase',purchase,color,customer,location)\n",
    "\n",
    "    # Step 8: Compare the stocks by capitalization\n",
    "\n",
    "    sql = '''\n",
    "    WITH WEEK45(SYMBOL, PURCHASES) AS (\n",
    "      SELECT SYMBOL, SUM(VOLUME * CLOSE) FROM TRADING.STOCK_HISTORY\n",
    "        WHERE WEEK(TX_DATE) =  45 AND SYMBOL IN (:stock1, :stock2, :stock3)\n",
    "      GROUP BY SYMBOL\n",
    "    )\n",
    "    SELECT SYMBOL, PURCHASES FROM WEEK45\n",
    "    ORDER BY SYMBOL, PURCHASES\n",
    "    '''\n",
    "\n",
    "    data = %sql -array {sql}\n",
    "\n",
    "    # Step 9: Publish the result to the cell TOP_STOCKS   \n",
    "\n",
    "    publishPie('top_stocks','Stock Capitalization',data[1:])\n",
    "\n",
    "    # Step 10: 30 Day Moving Average with trend line\n",
    "\n",
    "    sql = '''\n",
    "    WITH MOVAVG(WEEKNO, OPEN, MOVING) AS (\n",
    "       SELECT WEEK(TX_DATE) AS WEEK, OPEN, \n",
    "         AVG(OPEN) OVER (\n",
    "           ORDER BY TX_DATE\n",
    "         ROWS BETWEEN 15 PRECEDING AND 15 FOLLOWING) AS MOVING_AVG\n",
    "      FROM TRADING.STOCK_HISTORY\n",
    "         WHERE SYMBOL = :stock1\n",
    "      ORDER BY WEEK(TX_DATE)\n",
    "    )\n",
    "    SELECT WEEKNO, DEC(AVG(OPEN),9,2), DEC(AVG(MOVING),9,2) FROM MOVAVG\n",
    "      WHERE WEEKNO BETWEEN 10 AND 20\n",
    "    GROUP BY WEEKNO\n",
    "    ORDER BY WEEKNO\n",
    "    '''\n",
    "    data = %sql -array {sql}\n",
    "\n",
    "    stock1_volume = []\n",
    "    stock2_volume = []\n",
    "    for row in data[1:]:\n",
    "        stock1_volume.append([row[0],row[1]])\n",
    "        stock2_volume.append([row[0],row[2]])\n",
    "    \n",
    "    # Step 11: Publish the trend line to STOCK_30DAY\n",
    "    \n",
    "    publishLine('stock_30day',stock1,'30-day Moving Average',['Base','Trend'],[stock1_volume,stock2_volume])"
   ]
  },
  {
   "cell_type": "markdown",
   "metadata": {},
   "source": [
    "Run the code forever, or until you hit stop."
   ]
  },
  {
   "cell_type": "code",
   "execution_count": 4,
   "metadata": {
    "scrolled": false
   },
   "outputs": [
    {
     "name": "stdout",
     "output_type": "stream",
     "text": [
      "Stocks: NKE, CSCO, UNH\n",
      "Stocks: INTC, CAT, UNH\n",
      "Stocks: CSCO, CAT, NKE\n",
      "Stocks: JPM, V, WMT\n",
      "Stocks: CVX, PG, XOM\n",
      "Stocks: JPM, UTX, MSFT\n",
      "Stocks: MRK, JNJ, VZ\n",
      "Stocks: PG, DIS, UNH\n",
      "Stocks: MRK, HD, MCD\n",
      "Stocks: NKE, CVX, JNJ\n",
      "Stocks: MSFT, AXP, GS\n",
      "Stocks: MSFT, NKE, AXP\n",
      "Stocks: CSCO, PFE, KO\n",
      "Stocks: WMT, V, DIS\n",
      "Stocks: GS, CVX, UNH\n",
      "Stocks: AAPL, CSCO, AXP\n",
      "Stocks: UTX, AAPL, WMT\n",
      "Stocks: BA, WMT, XOM\n",
      "Stocks: CVX, AAPL, DIS\n",
      "Stocks: XOM, WBA, BA\n",
      "Stocks: PG, VZ, AAPL\n",
      "Stocks: CSCO, MRK, XOM\n",
      "Stocks: WMT, JPM, XOM\n",
      "Stocks: CVX, JPM, GS\n",
      "Stocks: CVX, CSCO, MMM\n",
      "Stocks: TRV, DIS, MMM\n",
      "Stocks: WMT, MSFT, XOM\n",
      "Stocks: AAPL, UTX, XOM\n",
      "Stocks: MMM, INTC, MCD\n",
      "Stocks: KO, IBM, HD\n",
      "Stocks: KO, GS, JPM\n",
      "Stocks: MCD, AXP, CSCO\n",
      "Stocks: KO, V, VZ\n",
      "Stocks: CVX, UNH, MSFT\n",
      "Stocks: KO, PG, AAPL\n",
      "Stocks: DWDP, WBA, MSFT\n",
      "Stocks: TRV, JNJ, PG\n",
      "Stocks: UNH, JNJ, KO\n",
      "Stocks: AAPL, CAT, MMM\n",
      "Stocks: DIS, MCD, IBM\n",
      "Stocks: VZ, IBM, NKE\n",
      "Stocks: AXP, MSFT, MRK\n",
      "Stocks: JPM, WMT, BA\n",
      "Stocks: UTX, AXP, PFE\n",
      "Stocks: HD, JNJ, V\n",
      "Stocks: V, PFE, TRV\n",
      "Command completed.\n"
     ]
    },
    {
     "ename": "TypeError",
     "evalue": "'NoneType' object is not subscriptable",
     "output_type": "error",
     "traceback": [
      "\u001b[0;31m---------------------------------------------------------------------------\u001b[0m",
      "\u001b[0;31mTypeError\u001b[0m                                 Traceback (most recent call last)",
      "\u001b[0;32m<ipython-input-4-54f88502a29a>\u001b[0m in \u001b[0;36m<module>\u001b[0;34m\u001b[0m\n\u001b[1;32m     17\u001b[0m     \u001b[0mstock_name\u001b[0m \u001b[0;34m=\u001b[0m \u001b[0mall_names\u001b[0m\u001b[0;34m[\u001b[0m\u001b[0midx\u001b[0m\u001b[0;34m+\u001b[0m\u001b[0;36m1\u001b[0m\u001b[0;34m]\u001b[0m\u001b[0;34m[\u001b[0m\u001b[0;36m0\u001b[0m\u001b[0;34m]\u001b[0m\u001b[0;34m\u001b[0m\u001b[0;34m\u001b[0m\u001b[0m\n\u001b[1;32m     18\u001b[0m \u001b[0;34m\u001b[0m\u001b[0m\n\u001b[0;32m---> 19\u001b[0;31m     \u001b[0mpublish_dashboard\u001b[0m\u001b[0;34m(\u001b[0m\u001b[0mstock1\u001b[0m\u001b[0;34m,\u001b[0m \u001b[0mstock2\u001b[0m\u001b[0;34m,\u001b[0m \u001b[0mstock3\u001b[0m\u001b[0;34m,\u001b[0m \u001b[0mstock_name\u001b[0m\u001b[0;34m)\u001b[0m\u001b[0;34m\u001b[0m\u001b[0;34m\u001b[0m\u001b[0m\n\u001b[0m\u001b[1;32m     20\u001b[0m     \u001b[0mtime\u001b[0m\u001b[0;34m.\u001b[0m\u001b[0msleep\u001b[0m\u001b[0;34m(\u001b[0m\u001b[0;36m1\u001b[0m\u001b[0;34m)\u001b[0m\u001b[0;34m\u001b[0m\u001b[0;34m\u001b[0m\u001b[0m\n",
      "\u001b[0;32m<ipython-input-3-b3fbf8b916e0>\u001b[0m in \u001b[0;36mpublish_dashboard\u001b[0;34m(stock1_in, stock2_in, stock3_in, stock_name_in)\u001b[0m\n\u001b[1;32m     70\u001b[0m \u001b[0;34m\u001b[0m\u001b[0m\n\u001b[1;32m     71\u001b[0m     \u001b[0mrow_count\u001b[0m \u001b[0;34m=\u001b[0m \u001b[0;36m0\u001b[0m\u001b[0;34m\u001b[0m\u001b[0;34m\u001b[0m\u001b[0m\n\u001b[0;32m---> 72\u001b[0;31m     \u001b[0;32mfor\u001b[0m \u001b[0mrow\u001b[0m \u001b[0;32min\u001b[0m \u001b[0mdata\u001b[0m\u001b[0;34m[\u001b[0m\u001b[0;36m1\u001b[0m\u001b[0;34m:\u001b[0m\u001b[0;34m]\u001b[0m\u001b[0;34m:\u001b[0m\u001b[0;34m\u001b[0m\u001b[0;34m\u001b[0m\u001b[0m\n\u001b[0m\u001b[1;32m     73\u001b[0m         \u001b[0mrow_count\u001b[0m \u001b[0;34m=\u001b[0m \u001b[0mrow_count\u001b[0m \u001b[0;34m+\u001b[0m \u001b[0;36m1\u001b[0m\u001b[0;34m\u001b[0m\u001b[0;34m\u001b[0m\u001b[0m\n\u001b[1;32m     74\u001b[0m         \u001b[0mcustomer\u001b[0m\u001b[0;34m.\u001b[0m\u001b[0mappend\u001b[0m\u001b[0;34m(\u001b[0m\u001b[0mrow\u001b[0m\u001b[0;34m[\u001b[0m\u001b[0;36m0\u001b[0m\u001b[0;34m]\u001b[0m\u001b[0;34m)\u001b[0m\u001b[0;34m\u001b[0m\u001b[0;34m\u001b[0m\u001b[0m\n",
      "\u001b[0;31mTypeError\u001b[0m: 'NoneType' object is not subscriptable"
     ]
    }
   ],
   "source": [
    "import random\n",
    "import time\n",
    "\n",
    "stock_names = []\n",
    "for stock in all_stocks[1:]:\n",
    "    stock_names.append(stock[0])\n",
    "    \n",
    "while True:\n",
    "    random_stocks = random.sample(all_stocks[1:],3)\n",
    "    stock1 = random_stocks[0][0]\n",
    "    stock2 = random_stocks[1][0]\n",
    "    stock3 = random_stocks[2][0]\n",
    "    \n",
    "    print('Stocks: {0}, {1}, {2}'.format(stock1,stock2,stock3))\n",
    "\n",
    "    idx = stock_names.index(stock1)\n",
    "    stock_name = all_names[idx+1][0]\n",
    "    \n",
    "    publish_dashboard(stock1, stock2, stock3, stock_name)   \n",
    "    time.sleep(1)"
   ]
  }
 ],
 "metadata": {
  "kernelspec": {
   "display_name": "Python 3",
   "language": "python",
   "name": "python3"
  },
  "language_info": {
   "codemirror_mode": {
    "name": "ipython",
    "version": 3
   },
   "file_extension": ".py",
   "mimetype": "text/x-python",
   "name": "python",
   "nbconvert_exporter": "python",
   "pygments_lexer": "ipython3",
   "version": "3.7.6"
  }
 },
 "nbformat": 4,
 "nbformat_minor": 2
}
