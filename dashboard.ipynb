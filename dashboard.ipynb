{
 "cells": [
  {
   "cell_type": "markdown",
   "metadata": {},
   "source": [
    "# RESTful Interface to Dashboard Services"
   ]
  },
  {
   "cell_type": "markdown",
   "metadata": {},
   "source": [
    "### Imports and Configuration Constants"
   ]
  },
  {
   "cell_type": "code",
   "execution_count": null,
   "metadata": {},
   "outputs": [],
   "source": [
    "import requests\n",
    "import json\n",
    "\n",
    "url = 'localhost:7272'\n",
    "# url = 'localhost:7273' # Use 7273 for Uptime Dashboard"
   ]
  },
  {
   "cell_type": "code",
   "execution_count": null,
   "metadata": {},
   "outputs": [],
   "source": [
    "def seturl(urlin):\n",
    "    \n",
    "    global url\n",
    "    url = urlin"
   ]
  },
  {
   "cell_type": "markdown",
   "metadata": {},
   "source": [
    "### Generate URL \n",
    "This function will generate a URL based on whether or not it is a request to load data or to update the appearence of the cell."
   ]
  },
  {
   "cell_type": "code",
   "execution_count": null,
   "metadata": {},
   "outputs": [],
   "source": [
    "def geturl(action,tile=None):\n",
    "    \n",
    "    global url \n",
    "    \n",
    "    # Update these values as required\n",
    "    \n",
    "    apikey  = '0000'\n",
    "    api     = 'v0.1'\n",
    "    \n",
    "    if (tile is not None):\n",
    "        # You are updating the look of a tile\n",
    "        template = \"{0}/api/{1}/{2}/{3}/{4}\"\n",
    "        finalurl = template.format(url,api,apikey,action,tile)\n",
    "    else:\n",
    "        # You are inputting data to the tile\n",
    "        template = \"{0}/api/{1}/{2}/{3}\"\n",
    "        finalurl = template.format(url,api,apikey,action)\n",
    "        \n",
    "    return finalurl"
   ]
  },
  {
   "cell_type": "markdown",
   "metadata": {},
   "source": [
    "## Pie Formatting\n",
    "### Format Pie Data for a Cell\n",
    "This function will format the data required for pie data in a tile. "
   ]
  },
  {
   "cell_type": "code",
   "execution_count": null,
   "metadata": {},
   "outputs": [],
   "source": [
    "def format_pieData(cell, title, data):\n",
    "    \n",
    "    # Pie Data format requires two fields - The title and the actual data\n",
    "    data_prepared = {\n",
    "        'title'   : title,\n",
    "        'pie_data': data\n",
    "    }    \n",
    "    \n",
    "    # To pass the data we need to serialize it into a string\n",
    "    data_jsoned = json.dumps(data_prepared)\n",
    "    \n",
    "    # The REST API Required\n",
    "    data_to_push = {\n",
    "        'tile': 'pie_chart',\n",
    "        'key' : cell,\n",
    "        'data': data_jsoned,\n",
    "    }\n",
    "        \n",
    "    return data_to_push"
   ]
  },
  {
   "cell_type": "markdown",
   "metadata": {},
   "source": [
    "### Format Pie Formatting for a Cell\n",
    "This function will add a legend to a pie Chart."
   ]
  },
  {
   "cell_type": "code",
   "execution_count": null,
   "metadata": {},
   "outputs": [],
   "source": [
    "def format_pieConfig(cell, show_title=True):\n",
    "    \n",
    "    import json\n",
    "    \n",
    "    # Pie Legend on with s (n, e, w, s) location\n",
    "    settings = {\n",
    "        \"legend\" : {\n",
    "            'show': True,\n",
    "            'location': 'e'\n",
    "        }\n",
    "    }\n",
    "    \n",
    "    # Show title or not\n",
    "    pie_config = {\n",
    "       'value' : json.dumps(settings),\n",
    "    }\n",
    "    \n",
    "    return pie_config\n"
   ]
  },
  {
   "cell_type": "markdown",
   "metadata": {},
   "source": [
    "### Pie Plot Function\n",
    "This function will place data into a cell and format the cell at the same time. The input arguments are the title, cell location, and the data to be plotted."
   ]
  },
  {
   "cell_type": "code",
   "execution_count": null,
   "metadata": {},
   "outputs": [],
   "source": [
    "def publishPie(cell, title, data):\n",
    "    \n",
    "    # URL for Uploading the data (push request)\n",
    "    \n",
    "    url = geturl('push')\n",
    "    \n",
    "    rest_data = format_pieData(cell,title,data)\n",
    "       \n",
    "    res = requests.post(url, data=rest_data)\n",
    "    if (res.ok == False):\n",
    "        print(\"Bad request call\")\n",
    "        print(res.text)\n",
    "    \n",
    "    rest_data = format_pieConfig(cell)\n",
    "    \n",
    "    url = geturl('tileconfig',cell)\n",
    "    \n",
    "    res = requests.post(url, data=rest_data)\n",
    "    if (res.ok == False):\n",
    "        print(\"Bad request call\")\n",
    "        print(res.text)"
   ]
  },
  {
   "cell_type": "markdown",
   "metadata": {},
   "source": [
    "## Big Text"
   ]
  },
  {
   "cell_type": "code",
   "execution_count": null,
   "metadata": {},
   "outputs": [],
   "source": [
    "def format_bigData(cell, title, description, bigvalue, label1='', value1='', label2='', value2='', label3='', value3='', label4='', value4=''):\n",
    "    \n",
    "    # If a value is None, we make sure it is set to an empty string \n",
    "    \n",
    "    data_prepared = {\n",
    "        \"title\"            : title,\n",
    "        \"description\"      : description,\n",
    "        \"big-value\"        : bigvalue,\n",
    "        \"upper-left-label\" : label1,\n",
    "        \"upper-left-value\" : value1,\n",
    "        \"lower-left-label\" : label2,\n",
    "        \"lower-left-value\" : value2,\n",
    "        \"upper-right-label\": label3,\n",
    "        \"upper-right-value\": value3,\n",
    "        \"lower-right-label\": label4,\n",
    "        \"lower-right-value\": value4\n",
    "    }    \n",
    "    \n",
    "    # To pass the data we need to serialize it into a string\n",
    "    data_jsoned = json.dumps(data_prepared)\n",
    "    \n",
    "    # The REST API requires three fields\n",
    "    data_to_push = {\n",
    "        'tile': 'big_value',\n",
    "        'key' : cell,\n",
    "        'data': data_jsoned\n",
    "    }\n",
    "    \n",
    "    return data_to_push"
   ]
  },
  {
   "cell_type": "code",
   "execution_count": null,
   "metadata": {},
   "outputs": [],
   "source": [
    "def format_bigConfig(cell):\n",
    "    \n",
    "    # Pie Legend on with s (n, e, w, s) location\n",
    "    settings = {\n",
    "        \"big_value_color\": \"green\",\n",
    "        \"fading_background\": False\n",
    "    }\n",
    "    \n",
    "    # Show title or not\n",
    "    big_config = {\n",
    "       'value' : json.dumps(settings),\n",
    "    }\n",
    "    \n",
    "    return big_config"
   ]
  },
  {
   "cell_type": "code",
   "execution_count": null,
   "metadata": {},
   "outputs": [],
   "source": [
    "def publishText(cell, title, description, bigvalue, label1='', value1='', label2='', value2='', label3='', value3='', label4='', value4=''):\n",
    "    \n",
    "    # URL for Uploading the data (push request)\n",
    "       \n",
    "    url = geturl('push')\n",
    "       \n",
    "    rest_data = format_bigData(cell, title, description, bigvalue, label1, value1, label2, value2, label3, value3, label4, value4)\n",
    "       \n",
    "    res = requests.post(url,data=rest_data)\n",
    "    if (res.ok == False):\n",
    "        print(\"Bad request call\")\n",
    "        print(res.text)\n",
    "    \n",
    "    rest_data = format_bigConfig(cell)\n",
    "    \n",
    "    url = geturl('tileconfig',cell)\n",
    "    \n",
    "    res = requests.post(url, data=rest_data)\n",
    "    if (res.ok == False):\n",
    "        print(\"Bad request call\")\n",
    "        print(res.text)"
   ]
  },
  {
   "cell_type": "markdown",
   "metadata": {},
   "source": [
    "## Line Formatting"
   ]
  },
  {
   "cell_type": "code",
   "execution_count": null,
   "metadata": {},
   "outputs": [],
   "source": [
    "def format_lineConfig(cell, labels, trendline=False):\n",
    "\n",
    "    # Only thing we can set is the trendline\n",
    "    \n",
    "    settings = {\n",
    "        \"seriesDefaults\": {\n",
    "            \"trendline\": {\"show\": trendline}\n",
    "        },\n",
    "        \"legend\" : {\n",
    "            'show': True,\n",
    "            'location': 'nw',\n",
    "            'labels': labels,\n",
    "            'placement' : 'insideGrid',\n",
    "            'textColor' : '#00FFFF'\n",
    "        }\n",
    "    }\n",
    "    \n",
    "    # Show title or not\n",
    "    big_config = {\n",
    "       'value' : json.dumps(settings),\n",
    "    }\n",
    "    \n",
    "    return big_config"
   ]
  },
  {
   "cell_type": "code",
   "execution_count": null,
   "metadata": {},
   "outputs": [],
   "source": [
    "def format_lineData(cell, title, description, data):\n",
    "    \n",
    "    # Line Data format requires three fields - The subtitle, description and the actual data\n",
    "    data_prepared = {\n",
    "        'subtitle': title,\n",
    "        'description': description,\n",
    "        'series_list': data\n",
    "    }    \n",
    "    \n",
    "    # To pass the data we need to serialize it into a string\n",
    "    data_jsoned = json.dumps(data_prepared)\n",
    "    \n",
    "    # The REST API Required\n",
    "    data_to_push = {\n",
    "        'tile': 'line_chart',\n",
    "        'key' : cell,\n",
    "        'data': data_jsoned\n",
    "    }\n",
    "    \n",
    "    return data_to_push"
   ]
  },
  {
   "cell_type": "code",
   "execution_count": null,
   "metadata": {},
   "outputs": [],
   "source": [
    "def publishLine(cell, title, description, labels, data):\n",
    "    \n",
    "    # URL for Uploading the data (push request)\n",
    "    \n",
    "    url = geturl('push')\n",
    "    \n",
    "    rest_data = format_lineData(cell, title, description, data)\n",
    "   \n",
    "    res = requests.post(url, data=rest_data)\n",
    "    if (res.ok == False):\n",
    "        print(\"Bad request call\")\n",
    "        print(res.text)\n",
    "        \n",
    "    rest_data = format_lineConfig(cell, labels)\n",
    "    \n",
    "    url = geturl('tileconfig',cell)\n",
    "    \n",
    "    res = requests.post(url, data=rest_data)\n",
    "    if (res.ok == False):\n",
    "        print(\"Bad request call\")\n",
    "        print(res.text)        "
   ]
  },
  {
   "cell_type": "markdown",
   "metadata": {},
   "source": [
    "## Bar Chart Formatting\n",
    "There is no formatting options for bar charts."
   ]
  },
  {
   "cell_type": "code",
   "execution_count": null,
   "metadata": {},
   "outputs": [],
   "source": [
    "def format_barConfig(cell, labels):\n",
    "\n",
    "    # Only thing we can set is the trendline\n",
    "    \n",
    "    settings = {\n",
    "        \"legend\" : {\n",
    "            'show': True,\n",
    "            'location': 'e',\n",
    "            'labels': labels,\n",
    "            'placement' : 'insideGrid',\n",
    "            'textColor' : '#00FFFF'\n",
    "        }\n",
    "    }\n",
    "    \n",
    "    # Show title or not\n",
    "    bar_config = {\n",
    "       'value' : json.dumps(settings),\n",
    "    }\n",
    "    \n",
    "    return bar_config"
   ]
  },
  {
   "cell_type": "code",
   "execution_count": null,
   "metadata": {},
   "outputs": [],
   "source": [
    "def format_barchartData(cell, title, description, ticks, data):\n",
    "    \n",
    "    # Line Data format requires three fields - The subtitle, description and the actual data\n",
    "    data_prepared = {\n",
    "        \"title\"       : title,\n",
    "        \"subtitle\"    : description,\n",
    "        \"ticks\"       : ticks,\n",
    "        \"series_list\" : data\n",
    "    }    \n",
    "    \n",
    "    # To pass the data we need to serialize it into a string\n",
    "    data_jsoned = json.dumps(data_prepared)\n",
    "    \n",
    "    # The REST API Required\n",
    "    data_to_push = {\n",
    "        'tile': 'bar_chart',\n",
    "        'key' : cell,\n",
    "        'data': data_jsoned\n",
    "    }\n",
    "    \n",
    "    return data_to_push"
   ]
  },
  {
   "cell_type": "code",
   "execution_count": null,
   "metadata": {},
   "outputs": [],
   "source": [
    "def publishBar(cell, title, description, labels, ticks, data):\n",
    "    \n",
    "    # URL for Uploading the data (push request)\n",
    "    \n",
    "    url = geturl('push')\n",
    "    \n",
    "    rest_data = format_barchartData(cell, title, description, ticks, data)\n",
    "   \n",
    "    res = requests.post(url, data=rest_data)\n",
    "    if (res.ok == False):\n",
    "        print(\"Bad request call\")\n",
    "        print(res.text)\n",
    "        \n",
    "    rest_data = format_barConfig(cell, labels)\n",
    "    \n",
    "    url = geturl('tileconfig',cell)\n",
    "    \n",
    "    res = requests.post(url, data=rest_data)\n",
    "    if (res.ok == False):\n",
    "        print(\"Bad request call\")\n",
    "        print(res.text)                \n",
    "  "
   ]
  },
  {
   "cell_type": "markdown",
   "metadata": {},
   "source": [
    "## Text with Labels"
   ]
  },
  {
   "cell_type": "code",
   "execution_count": null,
   "metadata": {},
   "outputs": [],
   "source": [
    "def format_listingData(cell, labels, text, description):\n",
    "    \n",
    "    # If a value is None, we make sure it is set to an empty string \n",
    "    \n",
    "    data_prepared = []\n",
    "    for i in range(len(labels)):\n",
    "        data_prepared.append({\"label\": labels[i], \"text\" : \"&nbsp;\"+text[i], \"description\" : \"&nbsp;&nbsp;\"+description[i]})\n",
    "\n",
    "    # To pass the data we need to serialize it into a string\n",
    "    data_jsoned = json.dumps(data_prepared)\n",
    "    \n",
    "    # The REST API requires three fields\n",
    "    data_to_push = {\n",
    "        'tile': 'fancy_listing',\n",
    "        'key' : cell,\n",
    "        'data': data_jsoned\n",
    "    }\n",
    "    \n",
    "    return data_to_push"
   ]
  },
  {
   "cell_type": "code",
   "execution_count": null,
   "metadata": {},
   "outputs": [],
   "source": [
    "def format_listingConfig(cell, colors):\n",
    "    \n",
    "    settings = {\n",
    "        \"vertical_center\": False\n",
    "    }\n",
    "    \n",
    "    for i in range(len(colors)):\n",
    "        settings.update({i+1 : { \"label_color\" : colors[i], \"center\" : False }})\n",
    "        #settings.update({i+1 : { \"label_color\" : colors[i]}})\n",
    "    \n",
    "    # Show title or not\n",
    "    listing_config = {\n",
    "       'value' : json.dumps(settings),\n",
    "    }\n",
    "    \n",
    "    return listing_config"
   ]
  },
  {
   "cell_type": "code",
   "execution_count": null,
   "metadata": {},
   "outputs": [],
   "source": [
    "def publishListing(cell, labels, colors, text, description):\n",
    "    \n",
    "    # URL for Uploading the data (push request)\n",
    "       \n",
    "    url = geturl('push')\n",
    "       \n",
    "    rest_data = format_listingData(cell, labels, text, description)\n",
    "       \n",
    "    res = requests.post(url,data=rest_data)\n",
    "    if (res.ok == False):\n",
    "        print(\"Bad request call\")\n",
    "        print(res.text)\n",
    "    \n",
    "    rest_data = format_listingConfig(cell,colors)\n",
    "    \n",
    "    url = geturl('tileconfig',cell)\n",
    "    \n",
    "    res = requests.post(url, data=rest_data)\n",
    "    if (res.ok == False):\n",
    "        print(\"Bad request call\")\n",
    "        print(res.text)"
   ]
  },
  {
   "cell_type": "markdown",
   "metadata": {},
   "source": [
    "## Just Labels"
   ]
  },
  {
   "cell_type": "code",
   "execution_count": null,
   "metadata": {},
   "outputs": [],
   "source": [
    "def format_justData(cell, title, description, value):\n",
    "    \n",
    "   # If a value is None, we make sure it is set to an empty string \n",
    "    \n",
    "    data_prepared = {\n",
    "        \"title\" : title,\n",
    "        \"description\" : description,\n",
    "        \"just-value\" : value\n",
    "    }\n",
    "\n",
    "    # To pass the data we need to serialize it into a string\n",
    "    data_jsoned = json.dumps(data_prepared)\n",
    "    \n",
    "    # The REST API requires three fields\n",
    "    data_to_push = {\n",
    "        'tile': 'just_value',\n",
    "        'key' : cell,\n",
    "        'data': data_jsoned\n",
    "    }\n",
    "    \n",
    "    return data_to_push"
   ]
  },
  {
   "cell_type": "code",
   "execution_count": null,
   "metadata": {},
   "outputs": [],
   "source": [
    "def format_justConfig(cell, color):\n",
    "    \n",
    "    if (color == \"red\"):\n",
    "        settings = {\n",
    "            \"just-value-color\": color,\n",
    "            \"fading_background\": True\n",
    "        }\n",
    "    else:\n",
    "        settings = {\n",
    "            \"just-value-color\": color,\n",
    "            \"fading_background\": False\n",
    "        }\n",
    "    \n",
    "    listing_config = {\n",
    "       'value' : json.dumps(settings),\n",
    "    }\n",
    "    \n",
    "    return listing_config"
   ]
  },
  {
   "cell_type": "code",
   "execution_count": null,
   "metadata": {},
   "outputs": [],
   "source": [
    "def publishJustValue(cell, title, description, value, color):\n",
    "    \n",
    "    # URL for Uploading the data (push request)\n",
    "       \n",
    "    url = geturl('push')\n",
    "       \n",
    "    rest_data = format_justData(cell, title, description, value)\n",
    "       \n",
    "    res = requests.post(url,data=rest_data)\n",
    "    if (res.ok == False):\n",
    "        print(\"Bad request call\")\n",
    "        print(res.text)\n",
    "    \n",
    "    rest_data = format_justConfig(cell,color)\n",
    "    \n",
    "    url = geturl('tileconfig',cell)\n",
    "    \n",
    "    res = requests.post(url, data=rest_data)\n",
    "    if (res.ok == False):\n",
    "        print(\"Bad request call\")\n",
    "        print(res.text)"
   ]
  }
 ],
 "metadata": {
  "kernelspec": {
   "display_name": "Python 3",
   "language": "python",
   "name": "python3"
  },
  "language_info": {
   "codemirror_mode": {
    "name": "ipython",
    "version": 3
   },
   "file_extension": ".py",
   "mimetype": "text/x-python",
   "name": "python",
   "nbconvert_exporter": "python",
   "pygments_lexer": "ipython3",
   "version": "3.7.6"
  }
 },
 "nbformat": 4,
 "nbformat_minor": 2
}
